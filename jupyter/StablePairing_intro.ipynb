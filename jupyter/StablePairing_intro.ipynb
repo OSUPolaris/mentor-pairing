{
 "cells": [
  {
   "cell_type": "markdown",
   "id": "0baeb3e5",
   "metadata": {},
   "source": [
    "# Stable Pairing Intro\n",
    "\n",
    "This notebook provides a brief introduction to the stable pairing class. It will work through the example rankings found in Table 1 of McVitie and Wilson 1970 (https://link.springer.com/content/pdf/10.1007/BF01934199.pdf)"
   ]
  },
  {
   "cell_type": "code",
   "execution_count": 1,
   "id": "c3794b1f-9cbd-4326-a2fc-cf45431ac65f",
   "metadata": {},
   "outputs": [],
   "source": [
    "# Add stablepairing module to path\n",
    "import sys\n",
    "from pathlib import Path\n",
    "sys.path.append(str(Path('../py').absolute()))"
   ]
  },
  {
   "cell_type": "code",
   "execution_count": 2,
   "id": "3d243736",
   "metadata": {},
   "outputs": [],
   "source": [
    "# Import the StablePairing class\n",
    "from stablepairing.pairing import StablePairing\n",
    "import numpy as np # loading data + arrays"
   ]
  },
  {
   "cell_type": "markdown",
   "id": "0d1c7e30",
   "metadata": {},
   "source": [
    "We will next load the tables that should be found in `../../data` directory relative to the stablepairing code (if directly cloned from github, else you'll need to work a little here)"
   ]
  },
  {
   "cell_type": "code",
   "execution_count": 3,
   "id": "fe781429",
   "metadata": {},
   "outputs": [
    {
     "data": {
      "text/plain": [
       "array([[5, 7, 1, 2, 6, 8, 4, 3],\n",
       "       [2, 3, 7, 5, 4, 1, 8, 6],\n",
       "       [8, 5, 1, 4, 6, 2, 3, 7],\n",
       "       [3, 2, 7, 4, 1, 6, 8, 5],\n",
       "       [7, 2, 5, 1, 3, 6, 8, 4],\n",
       "       [1, 6, 7, 5, 8, 4, 2, 3],\n",
       "       [2, 5, 7, 6, 3, 4, 8, 1],\n",
       "       [3, 8, 4, 5, 7, 2, 6, 1],\n",
       "       [1, 6, 7, 4, 2, 5, 8, 3],\n",
       "       [7, 4, 5, 8, 2, 1, 3, 6]])"
      ]
     },
     "execution_count": 3,
     "metadata": {},
     "output_type": "execute_result"
    }
   ],
   "source": [
    "data_dir = Path('../data')\n",
    "men_ranks = np.loadtxt(data_dir / 'mcvitie_wilson_1970_table1_men.txt')\n",
    "men_ranks = men_ranks.astype(int)\n",
    "women_ranks = np.loadtxt(data_dir / 'mcvitie_wilson_1970_table1_women.txt')\n",
    "women_ranks = women_ranks.astype(int)\n",
    "men_ranks"
   ]
  },
  {
   "cell_type": "code",
   "execution_count": 4,
   "id": "14ae4af7",
   "metadata": {},
   "outputs": [
    {
     "data": {
      "text/plain": [
       "array([[ 5,  3,  7,  6,  9, 10,  1,  2,  8,  4],\n",
       "       [ 8,  6,  3,  5,  7,  2,  1, 10,  9,  4],\n",
       "       [ 1,  5,  6,  2, 10,  4,  9,  8,  7,  3],\n",
       "       [ 8,  7,  3,  9,  2,  4,  1,  5,  6, 10],\n",
       "       [ 6,  4,  7,  3,  8,  1, 10,  9,  2,  5],\n",
       "       [ 2,  8,  5,  4,  6,  3,  9,  7,  1, 10],\n",
       "       [ 7,  5, 10,  9,  2,  1,  8,  6,  4,  3],\n",
       "       [ 7,  4,  1,  5,  2,  3,  9, 10,  6,  8]])"
      ]
     },
     "execution_count": 4,
     "metadata": {},
     "output_type": "execute_result"
    }
   ],
   "source": [
    "women_ranks"
   ]
  },
  {
   "cell_type": "markdown",
   "id": "6ae324f3",
   "metadata": {},
   "source": [
    "These two arrays are what *I* call \"rank\" matricies. This means that the rows correspond to a member of a group, the columns correspond to the member's preference (first, second, third ... etc) and the values are a member of the other group. The `StablePairing` class accepts a different format which I call \"choice\" matricies. Choice matricies have rows corresponding to a member of a group, columns corresponding to a member of the other group and values reflecting the preference of member A to member B (1, 2, 3... so on). Choice matricies are accepted because this is a more natural form that survey data comes in. Both types are used internally to the algorithm so the choice of which to take as input data could have been either.\n",
    "\n",
    "Fortunately the `StablePairing` class has two static functions `rank2choice` and `choice2rank` which translate between the two formats. These are mostly for the class' own use but we will borrow them here. \n",
    "\n",
    "A subtle point that we don't have to deal with here but is important for  more general survey data is that if the preferences in each row of a choice matrix are not unique, a ranking order will be assigned by assigning shuffled adjacent numbers among the equally preferred choices. For this reason `choice2rank` includes an optional `shuffleseed` kwarg for reproducable results. This also means `arr == rank2choice(choice2rank(arr))` is only true when the preferences in the choice matrix are unique. Note, a choice matrix converted from a rank matrix always has unique preferences, so once the order is decided the process is invertable."
   ]
  },
  {
   "cell_type": "code",
   "execution_count": 5,
   "id": "c2bd0ebf",
   "metadata": {},
   "outputs": [
    {
     "data": {
      "text/plain": [
       "array([[3, 4, 8, 7, 1, 5, 2, 6],\n",
       "       [6, 1, 2, 5, 4, 8, 3, 7],\n",
       "       [3, 6, 7, 4, 2, 5, 8, 1],\n",
       "       [5, 2, 1, 4, 8, 6, 3, 7],\n",
       "       [4, 2, 5, 8, 3, 6, 1, 7],\n",
       "       [1, 7, 8, 6, 4, 2, 3, 5],\n",
       "       [8, 1, 5, 6, 2, 4, 3, 7],\n",
       "       [8, 6, 1, 3, 4, 7, 5, 2],\n",
       "       [1, 5, 8, 4, 6, 2, 3, 7],\n",
       "       [6, 5, 7, 2, 3, 8, 1, 4]])"
      ]
     },
     "execution_count": 5,
     "metadata": {},
     "output_type": "execute_result"
    }
   ],
   "source": [
    "men_choice = StablePairing.rank2choice(men_ranks)\n",
    "women_choice = StablePairing.rank2choice(women_ranks)\n",
    "men_choice"
   ]
  },
  {
   "cell_type": "code",
   "execution_count": 6,
   "id": "2fd18c6e",
   "metadata": {},
   "outputs": [
    {
     "data": {
      "text/plain": [
       "array([[ 7,  8,  2, 10,  1,  4,  3,  9,  5,  6],\n",
       "       [ 7,  6,  3, 10,  4,  2,  5,  1,  9,  8],\n",
       "       [ 1,  4, 10,  6,  2,  3,  9,  8,  7,  5],\n",
       "       [ 7,  5,  3,  6,  8,  9,  2,  1,  4, 10],\n",
       "       [ 6,  9,  4,  2, 10,  1,  3,  5,  8,  7],\n",
       "       [ 9,  1,  6,  4,  3,  5,  8,  2,  7, 10],\n",
       "       [ 6,  5, 10,  9,  2,  8,  1,  7,  4,  3],\n",
       "       [ 3,  5,  6,  2,  4,  9,  1, 10,  7,  8]])"
      ]
     },
     "execution_count": 6,
     "metadata": {},
     "output_type": "execute_result"
    }
   ],
   "source": [
    "women_choice"
   ]
  },
  {
   "cell_type": "markdown",
   "id": "d89bfa86",
   "metadata": {},
   "source": [
    "Now we can run the pairing algorthim. It is rather simple to do as below."
   ]
  },
  {
   "cell_type": "code",
   "execution_count": 7,
   "id": "01f8ffc1",
   "metadata": {},
   "outputs": [
    {
     "data": {
      "text/plain": [
       "array([6, 7, 2, 8, 1, 4, 5, 3])"
      ]
     },
     "execution_count": 7,
     "metadata": {},
     "output_type": "execute_result"
    }
   ],
   "source": [
    "sp = StablePairing(men_choice, women_choice)\n",
    "sp.run()\n",
    "sp.match"
   ]
  },
  {
   "cell_type": "markdown",
   "id": "9e23df7c",
   "metadata": {},
   "source": [
    "The output match array represents set B (women) `i` is paired with set A (men) `match[i]`. This reflects the \"male optimal\" solution that is stared in table 1 of McVitie and Wilson.\n",
    "\n",
    "We can also view this in a few different ways"
   ]
  },
  {
   "cell_type": "code",
   "execution_count": 8,
   "id": "49221e93",
   "metadata": {},
   "outputs": [
    {
     "name": "stdout",
     "output_type": "stream",
     "text": [
      "setB_AA is paired with setA_AF\n",
      "setB_AB is paired with setA_AG\n",
      "setB_AC is paired with setA_AB\n",
      "setB_AD is paired with setA_AH\n",
      "setB_AE is paired with setA_AA\n",
      "setB_AF is paired with setA_AD\n",
      "setB_AG is paired with setA_AE\n",
      "setB_AH is paired with setA_AC\n"
     ]
    }
   ],
   "source": [
    "# print them (note the names are made up here, pass a pandas.DataFrame if you want actual names)\n",
    "sp.print_matches()"
   ]
  },
  {
   "cell_type": "code",
   "execution_count": 9,
   "id": "4ff7ede8",
   "metadata": {},
   "outputs": [
    {
     "data": {
      "text/plain": [
       "setA_AA    setB_AE\n",
       "setA_AB    setB_AC\n",
       "setA_AC    setB_AH\n",
       "setA_AD    setB_AF\n",
       "setA_AE    setB_AG\n",
       "setA_AF    setB_AA\n",
       "setA_AG    setB_AB\n",
       "setA_AH    setB_AD\n",
       "setA_AI       None\n",
       "setA_AJ       None\n",
       "dtype: object"
      ]
     },
     "execution_count": 9,
     "metadata": {},
     "output_type": "execute_result"
    }
   ],
   "source": [
    "# Return a series (can also be written as csv with Series.to_csv(filename) )\n",
    "sp.matches_as_series(orient='A')"
   ]
  },
  {
   "cell_type": "code",
   "execution_count": 10,
   "id": "36a3c40c",
   "metadata": {},
   "outputs": [
    {
     "data": {
      "text/plain": [
       "setB_AA    setA_AF\n",
       "setB_AB    setA_AG\n",
       "setB_AC    setA_AB\n",
       "setB_AD    setA_AH\n",
       "setB_AE    setA_AA\n",
       "setB_AF    setA_AD\n",
       "setB_AG    setA_AE\n",
       "setB_AH    setA_AC\n",
       "dtype: object"
      ]
     },
     "execution_count": 10,
     "metadata": {},
     "output_type": "execute_result"
    }
   ],
   "source": [
    "sp.matches_as_series(orient='B')"
   ]
  },
  {
   "cell_type": "code",
   "execution_count": 11,
   "id": "98c1dceb",
   "metadata": {},
   "outputs": [
    {
     "data": {
      "text/plain": [
       "{'setA_AA': 'setB_AE',\n",
       " 'setA_AB': 'setB_AC',\n",
       " 'setA_AC': 'setB_AH',\n",
       " 'setA_AD': 'setB_AF',\n",
       " 'setA_AE': 'setB_AG',\n",
       " 'setA_AF': 'setB_AA',\n",
       " 'setA_AG': 'setB_AB',\n",
       " 'setA_AH': 'setB_AD',\n",
       " 'setA_AI': 'None',\n",
       " 'setA_AJ': 'None'}"
      ]
     },
     "execution_count": 11,
     "metadata": {},
     "output_type": "execute_result"
    }
   ],
   "source": [
    "# can also get this as a dict if you so prefer\n",
    "sp.matches_as_series(orient='A', as_series=False)"
   ]
  },
  {
   "cell_type": "code",
   "execution_count": null,
   "id": "b7bd30d8",
   "metadata": {},
   "outputs": [],
   "source": []
  }
 ],
 "metadata": {
  "kernelspec": {
   "display_name": "Python 3 (ipykernel)",
   "language": "python",
   "name": "python3"
  },
  "language_info": {
   "codemirror_mode": {
    "name": "ipython",
    "version": 3
   },
   "file_extension": ".py",
   "mimetype": "text/x-python",
   "name": "python",
   "nbconvert_exporter": "python",
   "pygments_lexer": "ipython3",
   "version": "3.10.13"
  }
 },
 "nbformat": 4,
 "nbformat_minor": 5
}
